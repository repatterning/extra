{
 "cells": [
  {
   "cell_type": "markdown",
   "metadata": {
    "id": "-EgmhTMNf5KR"
   },
   "source": [
    "* [Forecasting with Structural AR Timeseries](https://www.pymc.io/projects/examples/en/latest/time_series/Forecasting_with_structural_timeseries.html)\n",
    "* [Bayesian Vector Autoregressive Models](https://www.pymc.io/projects/examples/en/latest/time_series/bayesian_var_model.html)\n",
    "* [Sampling](https://www.pymc.io/projects/examples/en/latest/introductory/api_quickstart.html#sampling)\n",
    "\n",
    "<br>"
   ]
  },
  {
   "cell_type": "markdown",
   "metadata": {
    "id": "3rH2rIOZ7CK3"
   },
   "source": [
    "# Preliminaries"
   ]
  },
  {
   "cell_type": "code",
   "execution_count": 1,
   "metadata": {
    "id": "H4ndkuqD7O-p"
   },
   "outputs": [],
   "source": [
    "import os"
   ]
  },
  {
   "cell_type": "code",
   "execution_count": 2,
   "metadata": {
    "colab": {
     "base_uri": "https://localhost:8080/",
     "height": 35
    },
    "id": "i6UBo4xJ7RvC",
    "outputId": "2187ba1d-bc54-46cd-e163-e20e9433c062"
   },
   "outputs": [
    {
     "data": {
      "text/plain": [
       "'/app'"
      ]
     },
     "execution_count": 2,
     "metadata": {},
     "output_type": "execute_result"
    }
   ],
   "source": [
    "os.chdir(path=os.path.dirname(os.getcwd()))\n",
    "os.getcwd()"
   ]
  },
  {
   "cell_type": "markdown",
   "metadata": {
    "id": "9-YJnmAD7FK5"
   },
   "source": [
    "<br>\n",
    "\n",
    "## Libraries"
   ]
  },
  {
   "cell_type": "code",
   "execution_count": 3,
   "metadata": {
    "id": "rYnBVInC7AXA"
   },
   "outputs": [
    {
     "name": "stderr",
     "output_type": "stream",
     "text": [
      "WARNING (pytensor.tensor.blas): Using NumPy C-API based implementation for BLAS functions.\n"
     ]
    }
   ],
   "source": [
    "import sys\n",
    "import time\n",
    "import datetime\n",
    "import math\n",
    "import dask.dataframe\n",
    "\n",
    "import numpy as np\n",
    "import pandas as pd\n",
    "\n",
    "import arviz\n",
    "import pymc\n",
    "import requests\n",
    "import json\n",
    "\n",
    "import matplotlib\n",
    "import matplotlib.pyplot as plt\n",
    "import matplotlib.dates as mdates\n",
    "\n",
    "import seaborn as sns\n",
    "\n",
    "import statsmodels.graphics.tsaplots as sgt\n",
    "import statsmodels.api as sa\n",
    "import statsmodels.tsa.seasonal as stsl\n",
    "import statsmodels.tsa.stattools as stst"
   ]
  },
  {
   "cell_type": "markdown",
   "metadata": {
    "id": "Pm84105A1Dit"
   },
   "source": [
    "<br>\n",
    "\n",
    "## Settings"
   ]
  },
  {
   "cell_type": "code",
   "execution_count": 4,
   "metadata": {
    "id": "PsoJU9X1vwbP"
   },
   "outputs": [],
   "source": [
    "RANDOM_SEED = 5\n",
    "rng = np.random.default_rng(RANDOM_SEED)"
   ]
  },
  {
   "cell_type": "markdown",
   "metadata": {
    "id": "m0sKE8vbG0_P"
   },
   "source": [
    "<br>\n",
    "\n",
    "## Graphing"
   ]
  },
  {
   "cell_type": "code",
   "execution_count": 5,
   "metadata": {
    "id": "0l7qXuxLG31i"
   },
   "outputs": [],
   "source": [
    "matplotlib.rcParams.update({'font.size': 13})\n",
    "matplotlib.rcParams['text.usetex'] = False\n",
    "\n",
    "sns.set(font_scale=1)\n",
    "sns.set_style('dark')\n",
    "\n",
    "plt.rcParams['figure.constrained_layout.use'] = False"
   ]
  },
  {
   "cell_type": "markdown",
   "metadata": {
    "id": "9rGRSdtw6woH"
   },
   "source": [
    "<br>\n",
    "\n",
    "## Logging"
   ]
  },
  {
   "cell_type": "markdown",
   "metadata": {
    "id": "VbOFXzfrkrvg"
   },
   "source": [
    "```python\n",
    "logging.basicConfig(level=logging.INFO,\n",
    "                    format='%\\n(message)s\\n%(asctime)s.%(msecs)03d',\n",
    "                    datefmt='%Y-%m-%d %H:%M:%S', force=True, encoding='utf-8')\n",
    "logger = logging.getLogger(__name__)\n",
    "```"
   ]
  },
  {
   "cell_type": "markdown",
   "metadata": {
    "id": "iJd3zWYC50Yb"
   },
   "source": [
    "<br>\n",
    "<br>\n",
    "\n",
    "# Data"
   ]
  },
  {
   "cell_type": "markdown",
   "metadata": {
    "id": "9TmpZPjvAJCu"
   },
   "source": [
    "## Read"
   ]
  },
  {
   "cell_type": "code",
   "execution_count": 6,
   "metadata": {},
   "outputs": [],
   "source": [
    "objects = dask.dataframe.read_csv(os.path.join(os.getcwd(), 'data', 'series', '**', '*.csv' ))\n",
    "frame = objects.compute()\n",
    "frame.reset_index(drop=True, inplace=True)"
   ]
  },
  {
   "cell_type": "markdown",
   "metadata": {
    "id": "qaotIuU6WAvq"
   },
   "source": [
    "<br>\n",
    "<br>\n",
    "\n",
    "## Features Engineering"
   ]
  },
  {
   "cell_type": "markdown",
   "metadata": {
    "id": "RbaSTNyBgIfr"
   },
   "source": [
    "Class"
   ]
  },
  {
   "cell_type": "code",
   "execution_count": 7,
   "metadata": {
    "colab": {
     "base_uri": "https://localhost:8080/"
    },
    "id": "YiH4yLLbbfL3",
    "outputId": "81891571-1b14-4cc0-824e-fa616b6ba1df"
   },
   "outputs": [],
   "source": [
    "frame.drop_duplicates(inplace=True)\n",
    "frame['date'] = pd.to_datetime(frame['timestamp'], unit='ms')\n",
    "frame['measure'] = frame['value'] + frame['gauge_datum']"
   ]
  },
  {
   "cell_type": "markdown",
   "metadata": {
    "id": "2Dgmxqem5gHN"
   },
   "source": [
    "<br>\n",
    "<br>\n",
    "\n",
    "# Attributes\n",
    "\n"
   ]
  },
  {
   "cell_type": "code",
   "execution_count": 9,
   "metadata": {},
   "outputs": [
    {
     "name": "stdout",
     "output_type": "stream",
     "text": [
      "<class 'pandas.core.frame.DataFrame'>\n",
      "Index: 643071 entries, 0 to 643088\n",
      "Data columns (total 10 columns):\n",
      " #   Column          Non-Null Count   Dtype         \n",
      "---  ------          --------------   -----         \n",
      " 0   timestamp       643071 non-null  int64         \n",
      " 1   value           643071 non-null  float64       \n",
      " 2   quality_code    643071 non-null  int64         \n",
      " 3   station_id      643071 non-null  int64         \n",
      " 4   catchment_id    643071 non-null  int64         \n",
      " 5   catchment_size  643071 non-null  float64       \n",
      " 6   gauge_datum     643071 non-null  float64       \n",
      " 7   on_river        643071 non-null  int64         \n",
      " 8   date            643071 non-null  datetime64[ns]\n",
      " 9   measure         643071 non-null  float64       \n",
      "dtypes: datetime64[ns](1), float64(4), int64(5)\n",
      "memory usage: 54.0 MB\n"
     ]
    }
   ],
   "source": [
    "frame.info()"
   ]
  },
  {
   "cell_type": "code",
   "execution_count": 10,
   "metadata": {
    "colab": {
     "base_uri": "https://localhost:8080/",
     "height": 238
    },
    "id": "O52kRmF1IRdc",
    "outputId": "073e9f22-841a-4a04-b550-120354aed385"
   },
   "outputs": [
    {
     "data": {
      "text/html": [
       "<div>\n",
       "<style scoped>\n",
       "    .dataframe tbody tr th:only-of-type {\n",
       "        vertical-align: middle;\n",
       "    }\n",
       "\n",
       "    .dataframe tbody tr th {\n",
       "        vertical-align: top;\n",
       "    }\n",
       "\n",
       "    .dataframe thead th {\n",
       "        text-align: right;\n",
       "    }\n",
       "</style>\n",
       "<table border=\"1\" class=\"dataframe\">\n",
       "  <thead>\n",
       "    <tr style=\"text-align: right;\">\n",
       "      <th></th>\n",
       "      <th>station_id</th>\n",
       "      <th>catchment_id</th>\n",
       "    </tr>\n",
       "  </thead>\n",
       "  <tbody>\n",
       "    <tr>\n",
       "      <th>0</th>\n",
       "      <td>37282</td>\n",
       "      <td>277149</td>\n",
       "    </tr>\n",
       "    <tr>\n",
       "      <th>107186</th>\n",
       "      <td>37360</td>\n",
       "      <td>277149</td>\n",
       "    </tr>\n",
       "    <tr>\n",
       "      <th>214372</th>\n",
       "      <td>37196</td>\n",
       "      <td>277182</td>\n",
       "    </tr>\n",
       "    <tr>\n",
       "      <th>321530</th>\n",
       "      <td>37374</td>\n",
       "      <td>277182</td>\n",
       "    </tr>\n",
       "    <tr>\n",
       "      <th>428716</th>\n",
       "      <td>37472</td>\n",
       "      <td>277187</td>\n",
       "    </tr>\n",
       "    <tr>\n",
       "      <th>535902</th>\n",
       "      <td>38014</td>\n",
       "      <td>277187</td>\n",
       "    </tr>\n",
       "  </tbody>\n",
       "</table>\n",
       "</div>"
      ],
      "text/plain": [
       "        station_id  catchment_id\n",
       "0            37282        277149\n",
       "107186       37360        277149\n",
       "214372       37196        277182\n",
       "321530       37374        277182\n",
       "428716       37472        277187\n",
       "535902       38014        277187"
      ]
     },
     "execution_count": 10,
     "metadata": {},
     "output_type": "execute_result"
    }
   ],
   "source": [
    "frame[['station_id', 'catchment_id']].drop_duplicates()"
   ]
  },
  {
   "cell_type": "markdown",
   "metadata": {
    "id": "pwYi7TcGAgQ6"
   },
   "source": [
    "### A Sequence"
   ]
  },
  {
   "cell_type": "code",
   "execution_count": 11,
   "metadata": {
    "id": "cBtQLKVP6rvK"
   },
   "outputs": [],
   "source": [
    "sequence = frame.loc[frame['station_id'] == frame['station_id'][0], :]\n",
    "sequence = sequence.copy().sort_values(by='timestamp', axis=0, ascending=True)\n",
    "sequence.set_index(keys='date', drop=False, inplace=True)"
   ]
  },
  {
   "cell_type": "code",
   "execution_count": 33,
   "metadata": {
    "colab": {
     "base_uri": "https://localhost:8080/",
     "height": 335
    },
    "id": "vFtDLNhlwffg",
    "outputId": "3cae81cb-4a5d-41a7-ad33-f1aa14abb601"
   },
   "outputs": [
    {
     "data": {
      "text/html": [
       "<div>\n",
       "<style scoped>\n",
       "    .dataframe tbody tr th:only-of-type {\n",
       "        vertical-align: middle;\n",
       "    }\n",
       "\n",
       "    .dataframe tbody tr th {\n",
       "        vertical-align: top;\n",
       "    }\n",
       "\n",
       "    .dataframe thead th {\n",
       "        text-align: right;\n",
       "    }\n",
       "</style>\n",
       "<table border=\"1\" class=\"dataframe\">\n",
       "  <thead>\n",
       "    <tr style=\"text-align: right;\">\n",
       "      <th></th>\n",
       "      <th>measure</th>\n",
       "    </tr>\n",
       "  </thead>\n",
       "  <tbody>\n",
       "    <tr>\n",
       "      <th>count</th>\n",
       "      <td>73498.000000</td>\n",
       "    </tr>\n",
       "    <tr>\n",
       "      <th>mean</th>\n",
       "      <td>8.771151</td>\n",
       "    </tr>\n",
       "    <tr>\n",
       "      <th>std</th>\n",
       "      <td>0.263988</td>\n",
       "    </tr>\n",
       "    <tr>\n",
       "      <th>min</th>\n",
       "      <td>8.424000</td>\n",
       "    </tr>\n",
       "    <tr>\n",
       "      <th>25%</th>\n",
       "      <td>8.575000</td>\n",
       "    </tr>\n",
       "    <tr>\n",
       "      <th>50%</th>\n",
       "      <td>8.711000</td>\n",
       "    </tr>\n",
       "    <tr>\n",
       "      <th>75%</th>\n",
       "      <td>8.887000</td>\n",
       "    </tr>\n",
       "    <tr>\n",
       "      <th>max</th>\n",
       "      <td>10.463000</td>\n",
       "    </tr>\n",
       "  </tbody>\n",
       "</table>\n",
       "</div><br><label><b>dtype:</b> float64</label>"
      ],
      "text/plain": [
       "count    73498.000000\n",
       "mean         8.771151\n",
       "std          0.263988\n",
       "min          8.424000\n",
       "25%          8.575000\n",
       "50%          8.711000\n",
       "75%          8.887000\n",
       "max         10.463000\n",
       "Name: measure, dtype: float64"
      ]
     },
     "execution_count": 33,
     "metadata": {},
     "output_type": "execute_result"
    }
   ],
   "source": [
    "sequence['measure'].describe()"
   ]
  },
  {
   "cell_type": "markdown",
   "metadata": {
    "id": "6m03wrz-Pwhp"
   },
   "source": [
    "<br>\n",
    "<br>\n",
    "\n",
    "### $ln$ & difference of $ln$"
   ]
  },
  {
   "cell_type": "code",
   "execution_count": 12,
   "metadata": {
    "colab": {
     "base_uri": "https://localhost:8080/",
     "height": 431
    },
    "id": "mS5gonTuOyUN",
    "outputId": "eee785fa-e492-4174-ddbe-bc4dab805c2a"
   },
   "outputs": [
    {
     "data": {
      "text/html": [
       "<div>\n",
       "<style scoped>\n",
       "    .dataframe tbody tr th:only-of-type {\n",
       "        vertical-align: middle;\n",
       "    }\n",
       "\n",
       "    .dataframe tbody tr th {\n",
       "        vertical-align: top;\n",
       "    }\n",
       "\n",
       "    .dataframe thead th {\n",
       "        text-align: right;\n",
       "    }\n",
       "</style>\n",
       "<table border=\"1\" class=\"dataframe\">\n",
       "  <thead>\n",
       "    <tr style=\"text-align: right;\">\n",
       "      <th></th>\n",
       "      <th>timestamp</th>\n",
       "      <th>value</th>\n",
       "      <th>quality_code</th>\n",
       "      <th>station_id</th>\n",
       "      <th>catchment_id</th>\n",
       "      <th>catchment_size</th>\n",
       "      <th>gauge_datum</th>\n",
       "      <th>on_river</th>\n",
       "      <th>date</th>\n",
       "      <th>measure</th>\n",
       "      <th>measure_ln</th>\n",
       "      <th>measure_ln_difference</th>\n",
       "    </tr>\n",
       "    <tr>\n",
       "      <th>date</th>\n",
       "      <th></th>\n",
       "      <th></th>\n",
       "      <th></th>\n",
       "      <th></th>\n",
       "      <th></th>\n",
       "      <th></th>\n",
       "      <th></th>\n",
       "      <th></th>\n",
       "      <th></th>\n",
       "      <th></th>\n",
       "      <th></th>\n",
       "      <th></th>\n",
       "    </tr>\n",
       "  </thead>\n",
       "  <tbody>\n",
       "    <tr>\n",
       "      <th>2022-01-01 00:00:00</th>\n",
       "      <td>1640995200000</td>\n",
       "      <td>1.032</td>\n",
       "      <td>50</td>\n",
       "      <td>37282</td>\n",
       "      <td>277149</td>\n",
       "      <td>523.0</td>\n",
       "      <td>3.81</td>\n",
       "      <td>1</td>\n",
       "      <td>2022-01-01 00:00:00</td>\n",
       "      <td>4.842</td>\n",
       "      <td>1.577328</td>\n",
       "      <td>NaN</td>\n",
       "    </tr>\n",
       "    <tr>\n",
       "      <th>2022-01-01 00:15:00</th>\n",
       "      <td>1640996100000</td>\n",
       "      <td>1.033</td>\n",
       "      <td>50</td>\n",
       "      <td>37282</td>\n",
       "      <td>277149</td>\n",
       "      <td>523.0</td>\n",
       "      <td>3.81</td>\n",
       "      <td>1</td>\n",
       "      <td>2022-01-01 00:15:00</td>\n",
       "      <td>4.843</td>\n",
       "      <td>1.577534</td>\n",
       "      <td>0.000207</td>\n",
       "    </tr>\n",
       "    <tr>\n",
       "      <th>2022-01-01 00:30:00</th>\n",
       "      <td>1640997000000</td>\n",
       "      <td>1.032</td>\n",
       "      <td>50</td>\n",
       "      <td>37282</td>\n",
       "      <td>277149</td>\n",
       "      <td>523.0</td>\n",
       "      <td>3.81</td>\n",
       "      <td>1</td>\n",
       "      <td>2022-01-01 00:30:00</td>\n",
       "      <td>4.842</td>\n",
       "      <td>1.577328</td>\n",
       "      <td>-0.000207</td>\n",
       "    </tr>\n",
       "    <tr>\n",
       "      <th>2022-01-01 00:45:00</th>\n",
       "      <td>1640997900000</td>\n",
       "      <td>1.031</td>\n",
       "      <td>50</td>\n",
       "      <td>37282</td>\n",
       "      <td>277149</td>\n",
       "      <td>523.0</td>\n",
       "      <td>3.81</td>\n",
       "      <td>1</td>\n",
       "      <td>2022-01-01 00:45:00</td>\n",
       "      <td>4.841</td>\n",
       "      <td>1.577121</td>\n",
       "      <td>-0.000207</td>\n",
       "    </tr>\n",
       "    <tr>\n",
       "      <th>2022-01-01 01:00:00</th>\n",
       "      <td>1640998800000</td>\n",
       "      <td>1.032</td>\n",
       "      <td>50</td>\n",
       "      <td>37282</td>\n",
       "      <td>277149</td>\n",
       "      <td>523.0</td>\n",
       "      <td>3.81</td>\n",
       "      <td>1</td>\n",
       "      <td>2022-01-01 01:00:00</td>\n",
       "      <td>4.842</td>\n",
       "      <td>1.577328</td>\n",
       "      <td>0.000207</td>\n",
       "    </tr>\n",
       "  </tbody>\n",
       "</table>\n",
       "</div>"
      ],
      "text/plain": [
       "                         timestamp  value  quality_code  station_id  \\\n",
       "date                                                                  \n",
       "2022-01-01 00:00:00  1640995200000  1.032            50       37282   \n",
       "2022-01-01 00:15:00  1640996100000  1.033            50       37282   \n",
       "2022-01-01 00:30:00  1640997000000  1.032            50       37282   \n",
       "2022-01-01 00:45:00  1640997900000  1.031            50       37282   \n",
       "2022-01-01 01:00:00  1640998800000  1.032            50       37282   \n",
       "\n",
       "                     catchment_id  catchment_size  gauge_datum  on_river  \\\n",
       "date                                                                       \n",
       "2022-01-01 00:00:00        277149           523.0         3.81         1   \n",
       "2022-01-01 00:15:00        277149           523.0         3.81         1   \n",
       "2022-01-01 00:30:00        277149           523.0         3.81         1   \n",
       "2022-01-01 00:45:00        277149           523.0         3.81         1   \n",
       "2022-01-01 01:00:00        277149           523.0         3.81         1   \n",
       "\n",
       "                                   date  measure  measure_ln  \\\n",
       "date                                                           \n",
       "2022-01-01 00:00:00 2022-01-01 00:00:00    4.842    1.577328   \n",
       "2022-01-01 00:15:00 2022-01-01 00:15:00    4.843    1.577534   \n",
       "2022-01-01 00:30:00 2022-01-01 00:30:00    4.842    1.577328   \n",
       "2022-01-01 00:45:00 2022-01-01 00:45:00    4.841    1.577121   \n",
       "2022-01-01 01:00:00 2022-01-01 01:00:00    4.842    1.577328   \n",
       "\n",
       "                     measure_ln_difference  \n",
       "date                                        \n",
       "2022-01-01 00:00:00                    NaN  \n",
       "2022-01-01 00:15:00               0.000207  \n",
       "2022-01-01 00:30:00              -0.000207  \n",
       "2022-01-01 00:45:00              -0.000207  \n",
       "2022-01-01 01:00:00               0.000207  "
      ]
     },
     "execution_count": 12,
     "metadata": {},
     "output_type": "execute_result"
    }
   ],
   "source": [
    "sequence['measure_ln'] = np.log(sequence['measure'])\n",
    "sequence['measure_ln_difference'] = sequence['measure_ln'].diff(periods=1)\n",
    "sequence.head()"
   ]
  },
  {
   "cell_type": "code",
   "execution_count": 13,
   "metadata": {
    "colab": {
     "base_uri": "https://localhost:8080/",
     "height": 311
    },
    "id": "rrc7biSOQI7B",
    "outputId": "d68b6618-afcc-4529-d70f-f9656450fd84"
   },
   "outputs": [
    {
     "data": {
      "image/png": "[encoded data removed]",
      "text/plain": [
       "<Figure size 810x290 with 1 Axes>"
      ]
     },
     "metadata": {},
     "output_type": "display_data"
    }
   ],
   "source": [
    "locating = mdates.MonthLocator(interval=6)\n",
    "formatting = mdates.DateFormatter('%b %Y')\n",
    "\n",
    "fig = plt.figure(figsize=(8.1, 2.9))\n",
    "handle = fig.gca()\n",
    "handle.tick_params(axis='both', labelsize='small')\n",
    "\n",
    "sns.lineplot(data=sequence, x='date', y='measure', hue='station_id', ax=handle)\n",
    "\n",
    "handle.xaxis.set_major_locator(locating)\n",
    "handle.xaxis.set_major_formatter(formatting)\n",
    "\n",
    "handle.get_legend().remove()"
   ]
  },
  {
   "cell_type": "markdown",
   "metadata": {
    "id": "o71k9uH2CVov"
   },
   "source": [
    "<br>\n",
    "<br>\n",
    "\n",
    "## PACF"
   ]
  },
  {
   "cell_type": "code",
   "execution_count": 14,
   "metadata": {
    "colab": {
     "base_uri": "https://localhost:8080/",
     "height": 293
    },
    "id": "RhuvSP84CZVA",
    "outputId": "51a87460-67ba-4a30-cdd8-6f9aa74fccfe"
   },
   "outputs": [
    {
     "data": {
      "image/png": "[encoded data removed]",
      "text/plain": [
       "<Figure size 900x270 with 1 Axes>"
      ]
     },
     "metadata": {},
     "output_type": "display_data"
    }
   ],
   "source": [
    "plt.rc('xtick', labelsize=9)\n",
    "plt.rc('ytick', labelsize=9)\n",
    "fig, ax = plt.subplots(1, 1, figsize=(9.0, 2.7))\n",
    "\n",
    "sa.graphics.tsa.plot_pacf(x=sequence['measure'], alpha=0.05, lags=65, ax=ax)\n",
    "plt.show()"
   ]
  },
  {
   "cell_type": "code",
   "execution_count": 15,
   "metadata": {
    "id": "a8w6pARuECjA"
   },
   "outputs": [],
   "source": [
    "vectors = stst.pacf(x=sequence['measure'], nlags=65, alpha=0.05)"
   ]
  },
  {
   "cell_type": "code",
   "execution_count": 16,
   "metadata": {
    "colab": {
     "base_uri": "https://localhost:8080/",
     "height": 206
    },
    "id": "SAxPyumvGNB_",
    "outputId": "5bc969b5-fbe5-4cfb-e31e-193b1d0ddde4"
   },
   "outputs": [
    {
     "data": {
      "text/html": [
       "<div>\n",
       "<style scoped>\n",
       "    .dataframe tbody tr th:only-of-type {\n",
       "        vertical-align: middle;\n",
       "    }\n",
       "\n",
       "    .dataframe tbody tr th {\n",
       "        vertical-align: top;\n",
       "    }\n",
       "\n",
       "    .dataframe thead th {\n",
       "        text-align: right;\n",
       "    }\n",
       "</style>\n",
       "<table border=\"1\" class=\"dataframe\">\n",
       "  <thead>\n",
       "    <tr style=\"text-align: right;\">\n",
       "      <th></th>\n",
       "      <th>pacf</th>\n",
       "      <th>l_boundary</th>\n",
       "      <th>u_boundary</th>\n",
       "    </tr>\n",
       "  </thead>\n",
       "  <tbody>\n",
       "    <tr>\n",
       "      <th>0</th>\n",
       "      <td>1.000000</td>\n",
       "      <td>1.000000</td>\n",
       "      <td>1.000000</td>\n",
       "    </tr>\n",
       "    <tr>\n",
       "      <th>1</th>\n",
       "      <td>0.999970</td>\n",
       "      <td>0.993983</td>\n",
       "      <td>1.005956</td>\n",
       "    </tr>\n",
       "    <tr>\n",
       "      <th>2</th>\n",
       "      <td>-1.025313</td>\n",
       "      <td>-1.031300</td>\n",
       "      <td>-1.019326</td>\n",
       "    </tr>\n",
       "    <tr>\n",
       "      <th>3</th>\n",
       "      <td>0.533990</td>\n",
       "      <td>0.528003</td>\n",
       "      <td>0.539977</td>\n",
       "    </tr>\n",
       "    <tr>\n",
       "      <th>4</th>\n",
       "      <td>-2.668536</td>\n",
       "      <td>-2.674522</td>\n",
       "      <td>-2.662549</td>\n",
       "    </tr>\n",
       "  </tbody>\n",
       "</table>\n",
       "</div>"
      ],
      "text/plain": [
       "       pacf  l_boundary  u_boundary\n",
       "0  1.000000    1.000000    1.000000\n",
       "1  0.999970    0.993983    1.005956\n",
       "2 -1.025313   -1.031300   -1.019326\n",
       "3  0.533990    0.528003    0.539977\n",
       "4 -2.668536   -2.674522   -2.662549"
      ]
     },
     "execution_count": 16,
     "metadata": {},
     "output_type": "execute_result"
    }
   ],
   "source": [
    "partials = pd.DataFrame(data=np.hstack((vectors[0][...,None], vectors[1])), columns=['pacf', 'l_boundary', 'u_boundary'])\n",
    "partials.head()"
   ]
  },
  {
   "cell_type": "markdown",
   "metadata": {
    "id": "GY7xMZGbArbl"
   },
   "source": [
    "<br>\n",
    "<br>\n",
    "\n",
    "## Decomposition Inspection"
   ]
  },
  {
   "cell_type": "code",
   "execution_count": 17,
   "metadata": {
    "colab": {
     "base_uri": "https://localhost:8080/",
     "height": 480
    },
    "id": "rfZsGR6FyOfk",
    "outputId": "c73ae219-51dd-44de-8ba7-3edc0415afe0"
   },
   "outputs": [
    {
     "data": {
      "image/png": "[encoded data removed]",
      "text/plain": [
       "<Figure size 640x480 with 4 Axes>"
      ]
     },
     "metadata": {},
     "output_type": "display_data"
    }
   ],
   "source": [
    "graphs = stsl.seasonal_decompose(x=sequence['measure_ln_difference'][1:], model='additive', period=1)\n",
    "graphs.plot()\n",
    "plt.show()"
   ]
  },
  {
   "cell_type": "markdown",
   "metadata": {
    "id": "W2bv6EDAgf35"
   },
   "source": [
    "<br>\n",
    "<br>\n",
    "\n",
    "# Features Engineering"
   ]
  },
  {
   "cell_type": "code",
   "execution_count": 18,
   "metadata": {
    "id": "OP_4aBFOgGcp"
   },
   "outputs": [],
   "source": [
    "class Features:\n",
    "\n",
    "    def __init__(self) -> None:\n",
    "\n",
    "        self.__lags = 1\n",
    "\n",
    "    def __ln(self, blob: pd.DataFrame):\n",
    "\n",
    "        blob['measure_ln'] = np.log(blob['measure'].to_numpy())\n",
    "        blob['measure_ln_difference'] = blob['measure_ln'].diff(periods=self.__lags)\n",
    "\n",
    "        return blob\n",
    "\n",
    "    def exc(self, dataset: pd.DataFrame):\n",
    "\n",
    "        return self.__ln(blob=dataset.copy())\n"
   ]
  },
  {
   "cell_type": "code",
   "execution_count": 19,
   "metadata": {
    "id": "F1vsUFIg6hWB"
   },
   "outputs": [],
   "source": [
    "features = Features()"
   ]
  },
  {
   "cell_type": "code",
   "execution_count": 20,
   "metadata": {
    "id": "KfqHuXyx86vk"
   },
   "outputs": [],
   "source": [
    "extending = []\n",
    "for code in frame['station_id'].unique():\n",
    "\n",
    "    sequence = frame.copy().loc[frame['station_id'] == code, :]\n",
    "    sequence = features.exc(dataset=sequence)\n",
    "    extending.append(sequence)\n",
    "\n",
    "    del sequence\n",
    "\n",
    "extended = pd.concat(extending, axis=0, ignore_index=True)\n",
    "\n",
    "del extending\n"
   ]
  },
  {
   "cell_type": "code",
   "execution_count": 21,
   "metadata": {
    "colab": {
     "base_uri": "https://localhost:8080/"
    },
    "id": "p-7btI0767NT",
    "outputId": "703fc70e-9fac-4795-e61b-cfb9fd990f59"
   },
   "outputs": [
    {
     "name": "stdout",
     "output_type": "stream",
     "text": [
      "<class 'pandas.core.frame.DataFrame'>\n",
      "RangeIndex: 643071 entries, 0 to 643070\n",
      "Data columns (total 12 columns):\n",
      " #   Column                 Non-Null Count   Dtype         \n",
      "---  ------                 --------------   -----         \n",
      " 0   timestamp              643071 non-null  int64         \n",
      " 1   value                  643071 non-null  float64       \n",
      " 2   quality_code           643071 non-null  int64         \n",
      " 3   station_id             643071 non-null  int64         \n",
      " 4   catchment_id           643071 non-null  int64         \n",
      " 5   catchment_size         643071 non-null  float64       \n",
      " 6   gauge_datum            643071 non-null  float64       \n",
      " 7   on_river               643071 non-null  int64         \n",
      " 8   date                   643071 non-null  datetime64[ns]\n",
      " 9   measure                643071 non-null  float64       \n",
      " 10  measure_ln             643071 non-null  float64       \n",
      " 11  measure_ln_difference  643065 non-null  float64       \n",
      "dtypes: datetime64[ns](1), float64(6), int64(5)\n",
      "memory usage: 58.9 MB\n"
     ]
    }
   ],
   "source": [
    "extended.info()"
   ]
  },
  {
   "cell_type": "code",
   "execution_count": 22,
   "metadata": {
    "id": "hHAHqmpBKJfh"
   },
   "outputs": [],
   "source": [
    "extended.sort_values(by=['station_id', 'timestamp'], ascending=True, inplace=True, ignore_index=True)"
   ]
  },
  {
   "cell_type": "code",
   "execution_count": 23,
   "metadata": {
    "colab": {
     "base_uri": "https://localhost:8080/",
     "height": 206
    },
    "id": "Sd0w64lPGf5z",
    "outputId": "d263e5c5-200c-494c-83c8-9d49dc0224dd"
   },
   "outputs": [
    {
     "data": {
      "text/html": [
       "<div>\n",
       "<style scoped>\n",
       "    .dataframe tbody tr th:only-of-type {\n",
       "        vertical-align: middle;\n",
       "    }\n",
       "\n",
       "    .dataframe tbody tr th {\n",
       "        vertical-align: top;\n",
       "    }\n",
       "\n",
       "    .dataframe thead th {\n",
       "        text-align: right;\n",
       "    }\n",
       "</style>\n",
       "<table border=\"1\" class=\"dataframe\">\n",
       "  <thead>\n",
       "    <tr style=\"text-align: right;\">\n",
       "      <th></th>\n",
       "      <th>timestamp</th>\n",
       "      <th>station_id</th>\n",
       "      <th>catchment_id</th>\n",
       "      <th>date</th>\n",
       "      <th>measure</th>\n",
       "      <th>measure_ln</th>\n",
       "      <th>measure_ln_difference</th>\n",
       "    </tr>\n",
       "  </thead>\n",
       "  <tbody>\n",
       "    <tr>\n",
       "      <th>0</th>\n",
       "      <td>1640995200000</td>\n",
       "      <td>37196</td>\n",
       "      <td>277182</td>\n",
       "      <td>2022-01-01 00:00:00</td>\n",
       "      <td>8.789</td>\n",
       "      <td>2.173501</td>\n",
       "      <td>NaN</td>\n",
       "    </tr>\n",
       "    <tr>\n",
       "      <th>1</th>\n",
       "      <td>1640996100000</td>\n",
       "      <td>37196</td>\n",
       "      <td>277182</td>\n",
       "      <td>2022-01-01 00:15:00</td>\n",
       "      <td>8.788</td>\n",
       "      <td>2.173387</td>\n",
       "      <td>-0.000114</td>\n",
       "    </tr>\n",
       "    <tr>\n",
       "      <th>2</th>\n",
       "      <td>1640997000000</td>\n",
       "      <td>37196</td>\n",
       "      <td>277182</td>\n",
       "      <td>2022-01-01 00:30:00</td>\n",
       "      <td>8.787</td>\n",
       "      <td>2.173273</td>\n",
       "      <td>-0.000114</td>\n",
       "    </tr>\n",
       "    <tr>\n",
       "      <th>3</th>\n",
       "      <td>1640997900000</td>\n",
       "      <td>37196</td>\n",
       "      <td>277182</td>\n",
       "      <td>2022-01-01 00:45:00</td>\n",
       "      <td>8.786</td>\n",
       "      <td>2.173160</td>\n",
       "      <td>-0.000114</td>\n",
       "    </tr>\n",
       "    <tr>\n",
       "      <th>4</th>\n",
       "      <td>1640998800000</td>\n",
       "      <td>37196</td>\n",
       "      <td>277182</td>\n",
       "      <td>2022-01-01 01:00:00</td>\n",
       "      <td>8.783</td>\n",
       "      <td>2.172818</td>\n",
       "      <td>-0.000342</td>\n",
       "    </tr>\n",
       "  </tbody>\n",
       "</table>\n",
       "</div>"
      ],
      "text/plain": [
       "       timestamp  station_id  catchment_id                date  measure  \\\n",
       "0  1640995200000       37196        277182 2022-01-01 00:00:00    8.789   \n",
       "1  1640996100000       37196        277182 2022-01-01 00:15:00    8.788   \n",
       "2  1640997000000       37196        277182 2022-01-01 00:30:00    8.787   \n",
       "3  1640997900000       37196        277182 2022-01-01 00:45:00    8.786   \n",
       "4  1640998800000       37196        277182 2022-01-01 01:00:00    8.783   \n",
       "\n",
       "   measure_ln  measure_ln_difference  \n",
       "0    2.173501                    NaN  \n",
       "1    2.173387              -0.000114  \n",
       "2    2.173273              -0.000114  \n",
       "3    2.173160              -0.000114  \n",
       "4    2.172818              -0.000342  "
      ]
     },
     "execution_count": 23,
     "metadata": {},
     "output_type": "execute_result"
    }
   ],
   "source": [
    "extended[['timestamp', 'station_id', 'catchment_id', 'date', 'measure', 'measure_ln', 'measure_ln_difference']].head()"
   ]
  },
  {
   "cell_type": "markdown",
   "metadata": {
    "id": "u1EWgsTbfCVE"
   },
   "source": [
    "<br>\n",
    "<br>\n",
    "\n",
    "## Graphing"
   ]
  },
  {
   "cell_type": "markdown",
   "metadata": {
    "id": "Fc_Xgrp4TZTc"
   },
   "source": [
    "Options:\n",
    "* handle.get_legend().remove()"
   ]
  },
  {
   "cell_type": "code",
   "execution_count": 27,
   "metadata": {
    "id": "Xo_i2CMqfsBB"
   },
   "outputs": [],
   "source": [
    "locating = mdates.MonthLocator(interval=12)\n",
    "formatting = mdates.DateFormatter('%b %Y')"
   ]
  },
  {
   "cell_type": "code",
   "execution_count": 28,
   "metadata": {
    "colab": {
     "base_uri": "https://localhost:8080/",
     "height": 329
    },
    "id": "PtO1AvrRfFBl",
    "outputId": "92111f00-ef81-4244-86cf-d239307fdef7"
   },
   "outputs": [
    {
     "data": {
      "text/plain": [
       "<matplotlib.legend.Legend at 0x7f879c5b3d10>"
      ]
     },
     "execution_count": 28,
     "metadata": {},
     "output_type": "execute_result"
    },
    {
     "data": {
      "image/png": "[encoded data removed]",
      "text/plain": [
       "<Figure size 510x290 with 1 Axes>"
      ]
     },
     "metadata": {},
     "output_type": "display_data"
    }
   ],
   "source": [
    "fig = plt.figure(figsize=(5.1, 2.9))\n",
    "handle = fig.gca()\n",
    "handle.tick_params(axis='both', labelsize='small')\n",
    "\n",
    "sns.lineplot(data=extended, x='date', y='measure_ln_difference', hue='station_id', ax=handle)\n",
    "\n",
    "handle.xaxis.set_major_locator(locating)\n",
    "handle.xaxis.set_major_formatter(formatting)\n",
    "\n",
    "handle.legend(title='station', bbox_to_anchor=(1, 1), loc='upper left')\n"
   ]
  },
  {
   "cell_type": "code",
   "execution_count": 29,
   "metadata": {
    "colab": {
     "base_uri": "https://localhost:8080/",
     "height": 328
    },
    "id": "Jcf6feblGUFN",
    "outputId": "749e6cd1-27d1-49bc-c962-22856eaade09"
   },
   "outputs": [
    {
     "data": {
      "text/plain": [
       "<matplotlib.legend.Legend at 0x7f877833a5d0>"
      ]
     },
     "execution_count": 29,
     "metadata": {},
     "output_type": "execute_result"
    },
    {
     "data": {
      "image/png": "[encoded data removed]",
      "text/plain": [
       "<Figure size 510x290 with 1 Axes>"
      ]
     },
     "metadata": {},
     "output_type": "display_data"
    }
   ],
   "source": [
    "fig = plt.figure(figsize=(5.1, 2.9))\n",
    "handle = fig.gca()\n",
    "handle.tick_params(axis='both', labelsize='small')\n",
    "\n",
    "sns.lineplot(data=extended, x='date', y='measure_ln', hue='station_id', ax=handle)\n",
    "\n",
    "handle.xaxis.set_major_locator(locating)\n",
    "handle.xaxis.set_major_formatter(formatting)\n",
    "\n",
    "handle.legend(title='station', bbox_to_anchor=(1, 1), loc='upper left')\n"
   ]
  },
  {
   "cell_type": "markdown",
   "metadata": {
    "id": "YPSCbbKtf-6b"
   },
   "source": [
    "<br>\n",
    "<br>\n",
    "\n",
    "# Modelling"
   ]
  },
  {
   "cell_type": "markdown",
   "metadata": {
    "id": "fC9hIyoohTVU"
   },
   "source": [
    "## Settings"
   ]
  },
  {
   "cell_type": "code",
   "execution_count": 30,
   "metadata": {
    "id": "oc3d9HiQgVf3"
   },
   "outputs": [],
   "source": [
    "class Config:\n",
    "    \"\"\"\n",
    "    Config\n",
    "    \"\"\"\n",
    "\n",
    "    def __init__(self) -> None:\n",
    "\n",
    "        '''\n",
    "        For configurations repository\n",
    "        '''\n",
    "\n",
    "        # Seed\n",
    "        self.seed = 5\n",
    "\n",
    "        # The training/testing cut-off point\n",
    "        datestr = datetime.datetime.strptime('2025-01-01 00:00:00', '%Y-%m-%d %H:%M:%S')\n",
    "        self.cutoff = 1000 * time.mktime(datestr.timetuple())\n"
   ]
  },
  {
   "cell_type": "code",
   "execution_count": 31,
   "metadata": {
    "id": "4ttA4kNH9PRd"
   },
   "outputs": [],
   "source": [
    "configurations = Config()"
   ]
  },
  {
   "cell_type": "markdown",
   "metadata": {
    "id": "CT15O4m19rsy"
   },
   "source": [
    "<br>\n",
    "<br>\n",
    "\n",
    "## Co&ouml;rdinates, etc."
   ]
  },
  {
   "cell_type": "code",
   "execution_count": 32,
   "metadata": {
    "colab": {
     "base_uri": "https://localhost:8080/"
    },
    "id": "_M9gEgDlFSsx",
    "outputId": "3f8ad23c-7d45-4ac0-b762-5f55d91bd726"
   },
   "outputs": [
    {
     "name": "stdout",
     "output_type": "stream",
     "text": [
      "<class 'pandas.core.frame.DataFrame'>\n",
      "RangeIndex: 643071 entries, 0 to 643070\n",
      "Data columns (total 12 columns):\n",
      " #   Column                 Non-Null Count   Dtype         \n",
      "---  ------                 --------------   -----         \n",
      " 0   timestamp              643071 non-null  int64         \n",
      " 1   value                  643071 non-null  float64       \n",
      " 2   quality_code           643071 non-null  int64         \n",
      " 3   station_id             643071 non-null  int64         \n",
      " 4   catchment_id           643071 non-null  int64         \n",
      " 5   catchment_size         643071 non-null  float64       \n",
      " 6   gauge_datum            643071 non-null  float64       \n",
      " 7   on_river               643071 non-null  int64         \n",
      " 8   date                   643071 non-null  datetime64[ns]\n",
      " 9   measure                643071 non-null  float64       \n",
      " 10  measure_ln             643071 non-null  float64       \n",
      " 11  measure_ln_difference  643065 non-null  float64       \n",
      "dtypes: datetime64[ns](1), float64(6), int64(5)\n",
      "memory usage: 58.9 MB\n"
     ]
    }
   ],
   "source": [
    "extended.info()"
   ]
  },
  {
   "cell_type": "code",
   "execution_count": 33,
   "metadata": {
    "colab": {
     "base_uri": "https://localhost:8080/",
     "height": 206
    },
    "id": "2HffimqgFalz",
    "outputId": "709c6228-fe03-4f5c-d618-3a099208fff7"
   },
   "outputs": [
    {
     "data": {
      "text/html": [
       "<div>\n",
       "<style scoped>\n",
       "    .dataframe tbody tr th:only-of-type {\n",
       "        vertical-align: middle;\n",
       "    }\n",
       "\n",
       "    .dataframe tbody tr th {\n",
       "        vertical-align: top;\n",
       "    }\n",
       "\n",
       "    .dataframe thead th {\n",
       "        text-align: right;\n",
       "    }\n",
       "</style>\n",
       "<table border=\"1\" class=\"dataframe\">\n",
       "  <thead>\n",
       "    <tr style=\"text-align: right;\">\n",
       "      <th></th>\n",
       "      <th>timestamp</th>\n",
       "      <th>station_id</th>\n",
       "      <th>catchment_id</th>\n",
       "      <th>date</th>\n",
       "      <th>measure_ln_difference</th>\n",
       "    </tr>\n",
       "  </thead>\n",
       "  <tbody>\n",
       "    <tr>\n",
       "      <th>0</th>\n",
       "      <td>1640995200000</td>\n",
       "      <td>37196</td>\n",
       "      <td>277182</td>\n",
       "      <td>2022-01-01 00:00:00</td>\n",
       "      <td>NaN</td>\n",
       "    </tr>\n",
       "    <tr>\n",
       "      <th>1</th>\n",
       "      <td>1640996100000</td>\n",
       "      <td>37196</td>\n",
       "      <td>277182</td>\n",
       "      <td>2022-01-01 00:15:00</td>\n",
       "      <td>-0.000114</td>\n",
       "    </tr>\n",
       "    <tr>\n",
       "      <th>2</th>\n",
       "      <td>1640997000000</td>\n",
       "      <td>37196</td>\n",
       "      <td>277182</td>\n",
       "      <td>2022-01-01 00:30:00</td>\n",
       "      <td>-0.000114</td>\n",
       "    </tr>\n",
       "    <tr>\n",
       "      <th>3</th>\n",
       "      <td>1640997900000</td>\n",
       "      <td>37196</td>\n",
       "      <td>277182</td>\n",
       "      <td>2022-01-01 00:45:00</td>\n",
       "      <td>-0.000114</td>\n",
       "    </tr>\n",
       "    <tr>\n",
       "      <th>4</th>\n",
       "      <td>1640998800000</td>\n",
       "      <td>37196</td>\n",
       "      <td>277182</td>\n",
       "      <td>2022-01-01 01:00:00</td>\n",
       "      <td>-0.000342</td>\n",
       "    </tr>\n",
       "  </tbody>\n",
       "</table>\n",
       "</div>"
      ],
      "text/plain": [
       "       timestamp  station_id  catchment_id                date  \\\n",
       "0  1640995200000       37196        277182 2022-01-01 00:00:00   \n",
       "1  1640996100000       37196        277182 2022-01-01 00:15:00   \n",
       "2  1640997000000       37196        277182 2022-01-01 00:30:00   \n",
       "3  1640997900000       37196        277182 2022-01-01 00:45:00   \n",
       "4  1640998800000       37196        277182 2022-01-01 01:00:00   \n",
       "\n",
       "   measure_ln_difference  \n",
       "0                    NaN  \n",
       "1              -0.000114  \n",
       "2              -0.000114  \n",
       "3              -0.000114  \n",
       "4              -0.000342  "
      ]
     },
     "execution_count": 33,
     "metadata": {},
     "output_type": "execute_result"
    }
   ],
   "source": [
    "extended[['timestamp', 'station_id', 'catchment_id', 'date', 'measure_ln_difference']].head()"
   ]
  },
  {
   "cell_type": "markdown",
   "metadata": {
    "id": "ge4x8W1QGDdb"
   },
   "source": [
    "<br>\n",
    "<br>\n",
    "\n",
    "## By Catchment"
   ]
  },
  {
   "cell_type": "code",
   "execution_count": 34,
   "metadata": {
    "colab": {
     "base_uri": "https://localhost:8080/",
     "height": 238
    },
    "id": "b_sUSNzeFnre",
    "outputId": "a26d9406-563b-4be6-ffe7-a72d638f6735"
   },
   "outputs": [
    {
     "data": {
      "text/html": [
       "<div>\n",
       "<style scoped>\n",
       "    .dataframe tbody tr th:only-of-type {\n",
       "        vertical-align: middle;\n",
       "    }\n",
       "\n",
       "    .dataframe tbody tr th {\n",
       "        vertical-align: top;\n",
       "    }\n",
       "\n",
       "    .dataframe thead th {\n",
       "        text-align: right;\n",
       "    }\n",
       "</style>\n",
       "<table border=\"1\" class=\"dataframe\">\n",
       "  <thead>\n",
       "    <tr style=\"text-align: right;\">\n",
       "      <th></th>\n",
       "      <th>station_id</th>\n",
       "      <th>catchment_id</th>\n",
       "    </tr>\n",
       "  </thead>\n",
       "  <tbody>\n",
       "    <tr>\n",
       "      <th>0</th>\n",
       "      <td>37196</td>\n",
       "      <td>277182</td>\n",
       "    </tr>\n",
       "    <tr>\n",
       "      <th>107155</th>\n",
       "      <td>37282</td>\n",
       "      <td>277149</td>\n",
       "    </tr>\n",
       "    <tr>\n",
       "      <th>214338</th>\n",
       "      <td>37360</td>\n",
       "      <td>277149</td>\n",
       "    </tr>\n",
       "    <tr>\n",
       "      <th>321521</th>\n",
       "      <td>37374</td>\n",
       "      <td>277182</td>\n",
       "    </tr>\n",
       "    <tr>\n",
       "      <th>428704</th>\n",
       "      <td>37472</td>\n",
       "      <td>277187</td>\n",
       "    </tr>\n",
       "    <tr>\n",
       "      <th>535887</th>\n",
       "      <td>38014</td>\n",
       "      <td>277187</td>\n",
       "    </tr>\n",
       "  </tbody>\n",
       "</table>\n",
       "</div>"
      ],
      "text/plain": [
       "        station_id  catchment_id\n",
       "0            37196        277182\n",
       "107155       37282        277149\n",
       "214338       37360        277149\n",
       "321521       37374        277182\n",
       "428704       37472        277187\n",
       "535887       38014        277187"
      ]
     },
     "execution_count": 34,
     "metadata": {},
     "output_type": "execute_result"
    }
   ],
   "source": [
    "extended[['station_id', 'catchment_id']].drop_duplicates()"
   ]
  }
 ],
 "metadata": {
  "colab": {
   "provenance": [],
   "toc_visible": true
  },
  "kernelspec": {
   "display_name": "Python 3 (ipykernel)",
   "language": "python",
   "name": "python3"
  },
  "language_info": {
   "codemirror_mode": {
    "name": "ipython",
    "version": 3
   },
   "file_extension": ".py",
   "mimetype": "text/x-python",
   "name": "python",
   "nbconvert_exporter": "python",
   "pygments_lexer": "ipython3",
   "version": "3.12.8"
  }
 },
 "nbformat": 4,
 "nbformat_minor": 4
}
